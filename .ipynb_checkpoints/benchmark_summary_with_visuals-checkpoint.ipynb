{
 "cells": [
  {
   "cell_type": "markdown",
   "id": "1a880f1a",
   "metadata": {},
   "source": [
    "# Benchmark Summary Analysis\n",
    "Analyze optimizer performance and spin differences across optimizers"
   ]
  },
  {
   "cell_type": "code",
   "execution_count": null,
   "id": "ded5e84f",
   "metadata": {},
   "outputs": [],
   "source": [
    "import pandas as pd\n",
    "import matplotlib.pyplot as plt\n",
    "import numpy as np\n",
    "import glob\n",
    "\n",
    "summary_file = 'data/benchmark_summary_SkyrmionTest.csv'\n",
    "summary = pd.read_csv(summary_file)\n",
    "summary"
   ]
  },
  {
   "cell_type": "code",
   "execution_count": null,
   "id": "198f4e5f",
   "metadata": {},
   "outputs": [],
   "source": [
    "# Plot final energy per optimizer\n",
    "plt.figure()\n",
    "summary.plot(x='optimizer', y='final_energy', kind='bar', legend=False)\n",
    "plt.ylabel('Final Energy')\n",
    "plt.title('Final Energy per Optimizer')\n",
    "plt.show()"
   ]
  },
  {
   "cell_type": "code",
   "execution_count": null,
   "id": "f604f734",
   "metadata": {},
   "outputs": [],
   "source": [
    "# Plot mean and max site differences\n",
    "summary.plot(x='optimizer', y=['mean_site_diff', 'max_site_diff'], kind='bar')\n",
    "plt.ylabel('Difference (L2 norm)')\n",
    "plt.title('Spin Differences per Optimizer')\n",
    "plt.show()"
   ]
  },
  {
   "cell_type": "code",
   "execution_count": null,
   "id": "9de9b33b",
   "metadata": {},
   "outputs": [],
   "source": [
    "# Per-site spin difference heatmap for one optimizer (change name as needed)\n",
    "restart_df = pd.read_csv('data/parsed_restart.csv', index_col='site')\n",
    "optimized_df = pd.read_csv('data/optimized_spins_SkyrmionTest_adam.csv', index_col='site')\n",
    "diff_vectors = optimized_df[['mx', 'my', 'mz']].values - restart_df[['mx', 'my', 'mz']].values\n",
    "per_site_diff = np.linalg.norm(diff_vectors, axis=1)\n",
    "plt.figure(figsize=(10, 2))\n",
    "plt.imshow(per_site_diff[np.newaxis, :], aspect='auto', cmap='viridis')\n",
    "plt.colorbar(label='L2 Difference')\n",
    "plt.title('Per-site Spin Difference (Adam)')\n",
    "plt.xlabel('Site Index')\n",
    "plt.yticks([])\n",
    "plt.show()"
   ]
  },
  {
   "cell_type": "code",
   "execution_count": null,
   "id": "17f8a151",
   "metadata": {},
   "outputs": [],
   "source": [
    "# Spin difference histogram\n",
    "plt.figure()\n",
    "plt.hist(per_site_diff, bins=30, color='gray', edgecolor='black')\n",
    "plt.xlabel('Per-site L2 Difference')\n",
    "plt.ylabel('Count')\n",
    "plt.title('Spin Difference Histogram (Adam)')\n",
    "plt.show()"
   ]
  },
  {
   "cell_type": "code",
   "execution_count": null,
   "id": "57c628bd",
   "metadata": {},
   "outputs": [],
   "source": [
    "# Energy convergence curves for all optimizers\n",
    "plt.figure()\n",
    "for file in glob.glob('data/energy_log_SkyrmionTest_*.csv'):\n",
    "    optimizer = file.split('_')[-1].replace('.csv', '')\n",
    "    df = pd.read_csv(file)\n",
    "    plt.plot(df['step'], df['total'], label=optimizer)\n",
    "plt.xlabel('Step')\n",
    "plt.ylabel('Total Energy')\n",
    "plt.title('Energy Convergence per Optimizer')\n",
    "plt.legend()\n",
    "plt.show()"
   ]
  }
 ],
 "metadata": {},
 "nbformat": 4,
 "nbformat_minor": 5
}
