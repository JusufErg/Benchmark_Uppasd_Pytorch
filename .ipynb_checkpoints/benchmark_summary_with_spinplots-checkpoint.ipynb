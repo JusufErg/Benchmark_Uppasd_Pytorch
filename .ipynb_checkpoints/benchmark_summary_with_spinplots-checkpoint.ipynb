{
 "cells": [
  {
   "cell_type": "markdown",
   "id": "8745d310",
   "metadata": {},
   "source": [
    "# Benchmark Summary Analysis\n",
    "Analyze optimizer performance, spin differences, and final spin configurations"
   ]
  },
  {
   "cell_type": "code",
   "execution_count": null,
   "id": "ea89f058",
   "metadata": {},
   "outputs": [],
   "source": [
    "import pandas as pd\n",
    "import matplotlib.pyplot as plt\n",
    "import numpy as np\n",
    "import glob\n",
    "\n",
    "summary_file = 'data/benchmark_summary_SkyrmionTest.csv'\n",
    "summary = pd.read_csv(summary_file)\n",
    "summary"
   ]
  },
  {
   "cell_type": "code",
   "execution_count": null,
   "id": "307ea75c",
   "metadata": {},
   "outputs": [],
   "source": [
    "# Plot final energy per optimizer\n",
    "plt.figure()\n",
    "summary.plot(x='optimizer', y='final_energy', kind='bar', legend=False)\n",
    "plt.ylabel('Final Energy')\n",
    "plt.title('Final Energy per Optimizer')\n",
    "plt.show()"
   ]
  },
  {
   "cell_type": "code",
   "execution_count": null,
   "id": "74304116",
   "metadata": {},
   "outputs": [],
   "source": [
    "# Plot mean and max site differences\n",
    "summary.plot(x='optimizer', y=['mean_site_diff', 'max_site_diff'], kind='bar')\n",
    "plt.ylabel('Difference (L2 norm)')\n",
    "plt.title('Spin Differences per Optimizer')\n",
    "plt.show()"
   ]
  },
  {
   "cell_type": "code",
   "execution_count": null,
   "id": "db198ed8",
   "metadata": {},
   "outputs": [],
   "source": [
    "# Plot final spin vectors (mx, my) for all optimizers\n",
    "restart_df = pd.read_csv('data/parsed_restart.csv', index_col='site')\n",
    "site_index = restart_df.index.values\n",
    "\n",
    "for file in glob.glob('data/optimized_spins_SkyrmionTest_*.csv'):\n",
    "    optimizer = file.split('_')[-1].replace('.csv', '')\n",
    "    opt_df = pd.read_csv(file, index_col='site')\n",
    "    mx = opt_df['mx'].values\n",
    "    my = opt_df['my'].values\n",
    "    plt.figure(figsize=(10, 1))\n",
    "    plt.quiver(site_index, np.zeros_like(site_index), mx, my, angles='xy', scale_units='xy', scale=1)\n",
    "    plt.title(f'Final Spin Configuration (mx, my) - {optimizer}')\n",
    "    plt.xlabel('Site Index')\n",
    "    plt.yticks([])\n",
    "    plt.show()"
   ]
  }
 ],
 "metadata": {},
 "nbformat": 4,
 "nbformat_minor": 5
}
