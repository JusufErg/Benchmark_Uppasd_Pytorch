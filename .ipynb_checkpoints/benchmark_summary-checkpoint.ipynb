{
 "cells": [
  {
   "cell_type": "code",
   "execution_count": null,
   "id": "ea987631-d445-403d-b41e-a617fa253a73",
   "metadata": {},
   "outputs": [],
   "source": [
    "{\n",
    " \"cells\": [\n",
    "  {\n",
    "   \"cell_type\": \"markdown\",\n",
    "   \"metadata\": {},\n",
    "   \"source\": [\n",
    "    \"# Benchmark Summary Analysis\\n\",\n",
    "    \"Analyze optimizer performance on spin optimization benchmarks\"\n",
    "   ]\n",
    "  },\n",
    "  {\n",
    "   \"cell_type\": \"code\",\n",
    "   \"execution_count\": null,\n",
    "   \"metadata\": {},\n",
    "   \"outputs\": [],\n",
    "   \"source\": [\n",
    "    \"import pandas as pd\\n\",\n",
    "    \"import matplotlib.pyplot as plt\\n\",\n",
    "    \"\\n\",\n",
    "    \"summary_file = 'data/benchmark_summary_SkyrmionTest.csv'\\n\",\n",
    "    \"summary = pd.read_csv(summary_file)\\n\",\n",
    "    \"summary\"\n",
    "   ]\n",
    "  },\n",
    "  {\n",
    "   \"cell_type\": \"code\",\n",
    "   \"execution_count\": null,\n",
    "   \"metadata\": {},\n",
    "   \"outputs\": [],\n",
    "   \"source\": [\n",
    "    \"# Plot final energy per optimizer\\n\",\n",
    "    \"plt.figure()\\n\",\n",
    "    \"summary.plot(x='optimizer', y='final_energy', kind='bar', legend=False)\\n\",\n",
    "    \"plt.ylabel('Final Energy')\\n\",\n",
    "    \"plt.title('Final Energy per Optimizer')\\n\",\n",
    "    \"plt.show()\"\n",
    "   ]\n",
    "  },\n",
    "  {\n",
    "   \"cell_type\": \"code\",\n",
    "   \"execution_count\": null,\n",
    "   \"metadata\": {},\n",
    "   \"outputs\": [],\n",
    "   \"source\": [\n",
    "    \"# Plot mean and max site differences\\n\",\n",
    "    \"summary.plot(x='optimizer', y=['mean_site_diff', 'max_site_diff'], kind='bar')\\n\",\n",
    "    \"plt.ylabel('Difference (L2 norm)')\\n\",\n",
    "    \"plt.title('Spin Differences per Optimizer')\\n\",\n",
    "    \"plt.show()\"\n",
    "   ]\n",
    "  }\n",
    " ]\n",
    "}\n"
   ]
  }
 ],
 "metadata": {
  "kernelspec": {
   "display_name": "Python 3 (ipykernel)",
   "language": "python",
   "name": "python3"
  },
  "language_info": {
   "codemirror_mode": {
    "name": "ipython",
    "version": 3
   },
   "file_extension": ".py",
   "mimetype": "text/x-python",
   "name": "python",
   "nbconvert_exporter": "python",
   "pygments_lexer": "ipython3",
   "version": "3.9.23"
  }
 },
 "nbformat": 4,
 "nbformat_minor": 5
}
